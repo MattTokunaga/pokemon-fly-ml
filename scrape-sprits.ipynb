{
 "cells": [
  {
   "cell_type": "code",
   "execution_count": 1,
   "metadata": {},
   "outputs": [],
   "source": [
    "import pandas as pd\n",
    "from selenium import webdriver\n",
    "from selenium.webdriver.common.keys import Keys\n",
    "from selenium.webdriver.common.by import By\n",
    "from selenium.webdriver.common.action_chains import ActionChains\n",
    "import os\n",
    "import time\n",
    "import sys"
   ]
  },
  {
   "cell_type": "code",
   "execution_count": 8,
   "metadata": {},
   "outputs": [],
   "source": [
    "import random"
   ]
  },
  {
   "cell_type": "code",
   "execution_count": 2,
   "metadata": {},
   "outputs": [],
   "source": [
    "driver = webdriver.Chrome()"
   ]
  },
  {
   "cell_type": "code",
   "execution_count": 10,
   "metadata": {},
   "outputs": [],
   "source": [
    "driver.get(\"https://pokemondb.net/sprites\")"
   ]
  },
  {
   "cell_type": "code",
   "execution_count": 11,
   "metadata": {},
   "outputs": [
    {
     "data": {
      "text/plain": [
       "1025"
      ]
     },
     "execution_count": 11,
     "metadata": {},
     "output_type": "execute_result"
    }
   ],
   "source": [
    "imgs = driver.find_elements(By.CSS_SELECTOR, 'img[class=\"img-fixed icon-pkmn\"]')"
   ]
  },
  {
   "cell_type": "code",
   "execution_count": 12,
   "metadata": {},
   "outputs": [],
   "source": [
    "test = imgs[0]"
   ]
  },
  {
   "cell_type": "code",
   "execution_count": 22,
   "metadata": {},
   "outputs": [],
   "source": [
    "testsrc = test.get_attribute(\"src\")"
   ]
  },
  {
   "cell_type": "code",
   "execution_count": 24,
   "metadata": {},
   "outputs": [],
   "source": [
    "with open(\"images/test.png\", \"wb\") as file:\n",
    "    file.write(test.screenshot_as_png)"
   ]
  },
  {
   "cell_type": "code",
   "execution_count": 9,
   "metadata": {},
   "outputs": [],
   "source": [
    "def rand_assign():\n",
    "    val_ratio = .2\n",
    "    if random.random() < val_ratio:\n",
    "        return \"validation\"\n",
    "    return \"training\""
   ]
  },
  {
   "cell_type": "code",
   "execution_count": 10,
   "metadata": {},
   "outputs": [
    {
     "data": {
      "text/plain": [
       "'training'"
      ]
     },
     "execution_count": 10,
     "metadata": {},
     "output_type": "execute_result"
    }
   ],
   "source": [
    "rand_assign()"
   ]
  },
  {
   "cell_type": "code",
   "execution_count": 12,
   "metadata": {},
   "outputs": [],
   "source": [
    "fly_nums = []\n",
    "with open(\"flypage.txt\", \"r\") as file:\n",
    "    f = file.read()\n",
    "    for i in range(len(f)):\n",
    "        if f[i] == \"#\":\n",
    "            fly_nums += [int(f[i+1:i+5])]"
   ]
  },
  {
   "cell_type": "code",
   "execution_count": 13,
   "metadata": {},
   "outputs": [
    {
     "data": {
      "text/plain": [
       "[373,\n",
       " 384,\n",
       " 661,\n",
       " 662,\n",
       " 663,\n",
       " 738,\n",
       " 841,\n",
       " 931,\n",
       " 1005,\n",
       " 6,\n",
       " 85,\n",
       " 144,\n",
       " 144,\n",
       " 145,\n",
       " 145,\n",
       " 146,\n",
       " 146,\n",
       " 149,\n",
       " 151,\n",
       " 163,\n",
       " 164,\n",
       " 198,\n",
       " 225,\n",
       " 227,\n",
       " 249,\n",
       " 250,\n",
       " 278,\n",
       " 279,\n",
       " 329,\n",
       " 330,\n",
       " 333,\n",
       " 334,\n",
       " 357,\n",
       " 373,\n",
       " 380,\n",
       " 381,\n",
       " 384,\n",
       " 396,\n",
       " 397,\n",
       " 398,\n",
       " 425,\n",
       " 426,\n",
       " 430,\n",
       " 487,\n",
       " 493,\n",
       " 580,\n",
       " 581,\n",
       " 623,\n",
       " 627,\n",
       " 628,\n",
       " 628,\n",
       " 629,\n",
       " 630,\n",
       " 635,\n",
       " 637,\n",
       " 641,\n",
       " 642,\n",
       " 643,\n",
       " 644,\n",
       " 645,\n",
       " 646,\n",
       " 661,\n",
       " 662,\n",
       " 663,\n",
       " 701,\n",
       " 714,\n",
       " 715,\n",
       " 731,\n",
       " 732,\n",
       " 733,\n",
       " 738,\n",
       " 741,\n",
       " 792,\n",
       " 821,\n",
       " 822,\n",
       " 823,\n",
       " 841,\n",
       " 845,\n",
       " 887,\n",
       " 890,\n",
       " 905,\n",
       " 931,\n",
       " 940,\n",
       " 941,\n",
       " 962,\n",
       " 973,\n",
       " 993,\n",
       " 1005,\n",
       " 1016]"
      ]
     },
     "execution_count": 13,
     "metadata": {},
     "output_type": "execute_result"
    }
   ],
   "source": [
    "fly_nums"
   ]
  },
  {
   "cell_type": "code",
   "execution_count": 16,
   "metadata": {},
   "outputs": [],
   "source": [
    "learns_fly = pd.DataFrame()\n",
    "for i in range(1025):\n",
    "    if i+1 in fly_nums:\n",
    "        new = pd.Series({\"DexNum\": i+1, \"LearnsFly\": 1})\n",
    "        learns_fly = pd.concat([learns_fly, new.to_frame().T], ignore_index=True)\n",
    "    else:\n",
    "        new = pd.Series({\"DexNum\": i+1, \"LearnsFly\": 0})\n",
    "        learns_fly = pd.concat([learns_fly, new.to_frame().T], ignore_index=True)"
   ]
  },
  {
   "cell_type": "code",
   "execution_count": 19,
   "metadata": {},
   "outputs": [],
   "source": [
    "learns_fly.to_csv(\"learns_fly.csv\")"
   ]
  }
 ],
 "metadata": {
  "kernelspec": {
   "display_name": "Python 3",
   "language": "python",
   "name": "python3"
  },
  "language_info": {
   "codemirror_mode": {
    "name": "ipython",
    "version": 3
   },
   "file_extension": ".py",
   "mimetype": "text/x-python",
   "name": "python",
   "nbconvert_exporter": "python",
   "pygments_lexer": "ipython3",
   "version": "3.10.11"
  }
 },
 "nbformat": 4,
 "nbformat_minor": 2
}
